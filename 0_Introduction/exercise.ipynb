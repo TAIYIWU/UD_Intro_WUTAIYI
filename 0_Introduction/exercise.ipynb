{
 "cells": [
  {
   "cell_type": "markdown",
   "id": "83181369",
   "metadata": {},
   "source": [
    "# Exercise 00"
   ]
  },
  {
   "cell_type": "code",
   "execution_count": 1,
   "id": "4d4f3bf3",
   "metadata": {},
   "outputs": [
    {
     "name": "stdout",
     "output_type": "stream",
     "text": [
      "Introduction to Programming\n"
     ]
    }
   ],
   "source": [
    "print(\"Introduction to Programming\")"
   ]
  },
  {
   "cell_type": "markdown",
   "id": "66fda68d",
   "metadata": {},
   "source": [
    "# Exercise 02"
   ]
  },
  {
   "cell_type": "code",
   "execution_count": 10,
   "id": "68ff8b28",
   "metadata": {},
   "outputs": [
    {
     "name": "stdout",
     "output_type": "stream",
     "text": [
      " WU TAIYI\n",
      " wutaiyi815@gmail.com\n",
      " 26\n",
      "\n"
     ]
    }
   ],
   "source": [
    "name=\" WU TAIYI\\n\"\n",
    "email=\"wutaiyi815@gmail.com\\n\"\n",
    "age=\"26\\n\"\n",
    "print(name,email,age)"
   ]
  },
  {
   "cell_type": "markdown",
   "id": "d185a7a0",
   "metadata": {},
   "source": [
    "# Exercise 03"
   ]
  },
  {
   "cell_type": "code",
   "execution_count": 12,
   "id": "9d00f24f",
   "metadata": {},
   "outputs": [
    {
     "name": "stdout",
     "output_type": "stream",
     "text": [
      "0\n",
      "178\n",
      "-21\n",
      "59.95918367346939\n",
      "4337328\n",
      "3833759992447475122176\n"
     ]
    }
   ],
   "source": [
    "for i in (0,178,-21,2938/49,436*9948,12**20):\n",
    "    print(i)"
   ]
  },
  {
   "cell_type": "markdown",
   "id": "d9c7e84c",
   "metadata": {},
   "source": [
    "# Exercise 04"
   ]
  },
  {
   "cell_type": "code",
   "execution_count": 23,
   "id": "abae56f1",
   "metadata": {},
   "outputs": [
    {
     "name": "stdout",
     "output_type": "stream",
     "text": [
      "-0.8732972972139946\n",
      "0.8623188722876839\n",
      "0.9999999999999999\n"
     ]
    }
   ],
   "source": [
    "import math\n",
    "print(math.sin(200))\n",
    "print(math.cos(100))\n",
    "print(math.tan(math.pi/4))"
   ]
  },
  {
   "cell_type": "markdown",
   "id": "5a34f0db",
   "metadata": {},
   "source": [
    "# Exercise 05"
   ]
  },
  {
   "cell_type": "code",
   "execution_count": 25,
   "id": "3ade4445",
   "metadata": {},
   "outputs": [
    {
     "name": "stdout",
     "output_type": "stream",
     "text": [
      "please enter your firstnameTAIYI\n",
      "please enter your lastnameWU\n",
      "TAIYI WU\n"
     ]
    }
   ],
   "source": [
    "firstname=input(\"please enter your firstname\")\n",
    "lastname=input(\"please enter your lastname\")\n",
    "print(firstname+\" \"+lastname)"
   ]
  },
  {
   "cell_type": "markdown",
   "id": "b8b9e817",
   "metadata": {},
   "source": [
    "# Exerise 06"
   ]
  },
  {
   "cell_type": "code",
   "execution_count": 39,
   "id": "721dd09c",
   "metadata": {},
   "outputs": [
    {
     "name": "stdout",
     "output_type": "stream",
     "text": [
      "Please enter a number you like2\n",
      "POSITIVE\n"
     ]
    }
   ],
   "source": [
    "N=input(\"Please enter a number you like\")\n",
    "if int(N)>0:\n",
    "    print(\"POSITIVE\")\n",
    "elif int(N)<0:\n",
    "    print(\"NEGATIVE\")\n",
    "else:\n",
    "    print(\"0\")"
   ]
  },
  {
   "cell_type": "markdown",
   "id": "0b2b0e7a",
   "metadata": {},
   "source": [
    "# Exercise 07"
   ]
  },
  {
   "cell_type": "code",
   "execution_count": 72,
   "id": "1976c340",
   "metadata": {},
   "outputs": [
    {
     "name": "stdout",
     "output_type": "stream",
     "text": [
      "set your lower range(1~21):2\n",
      "set your upper range(1~21):5\n",
      "Please enter your guessed nmuber4\n",
      "Sorry,please try again!\n",
      "You should guess Smaller\n",
      "Please enter your guessed nmuber3\n",
      "CONGRADULATION!!!\n",
      "You have tried 2 times\n"
     ]
    }
   ],
   "source": [
    "import random\n",
    "a = int(input('set your lower range(1~21):'))\n",
    "b = int(input('set your upper range(1~21):'))\n",
    "random_number = random.randint(a,b)\n",
    "N=input('Please enter your guessed nmuber')\n",
    "t=1\n",
    "\n",
    "while int(N)!=random_number:\n",
    "    print('Sorry,please try again!')\n",
    "    t=t+1\n",
    "    if int(N)>random_number:\n",
    "            print(\"You should guess Smaller\")\n",
    "    else:\n",
    "            print(\"You should guess Bigger\")\n",
    "    N=input('Please enter your guessed nmuber')\n",
    "print(\"CONGRADULATION!!!\")\n",
    "print(\"You have tried\" + \" \" +str(t) +\" \"+\"times\")"
   ]
  },
  {
   "cell_type": "markdown",
   "id": "92949f45",
   "metadata": {},
   "source": [
    "# Exercise 08"
   ]
  },
  {
   "cell_type": "code",
   "execution_count": 90,
   "id": "b11ee1fd",
   "metadata": {},
   "outputs": [
    {
     "name": "stdout",
     "output_type": "stream",
     "text": [
      "Please enter a sentencePlease enter a sentence\n",
      "['a', 'enter', 'please', 'sentence']\n"
     ]
    }
   ],
   "source": [
    "sentence = input('Please enter a sentence')\n",
    "words.sort()\n",
    "print(words)"
   ]
  },
  {
   "cell_type": "code",
   "execution_count": 87,
   "id": "d144c86b",
   "metadata": {},
   "outputs": [
    {
     "name": "stdout",
     "output_type": "stream",
     "text": [
      "dsadsad\n",
      "['i', 'l', 's', 't', 'x']\n"
     ]
    }
   ],
   "source": [
    "x=input()\n",
    "list2=sorted('listx')\n",
    "print(list2)"
   ]
  },
  {
   "cell_type": "markdown",
   "id": "bd7b2a47",
   "metadata": {},
   "source": [
    "# Exercise 09\n"
   ]
  },
  {
   "cell_type": "code",
   "execution_count": 130,
   "id": "b38975c2",
   "metadata": {},
   "outputs": [
    {
     "name": "stdout",
     "output_type": "stream",
     "text": [
      "Please decide the height of the tree15\n",
      "               *\n",
      "              ***\n",
      "             *****\n",
      "            *******\n",
      "           *********\n",
      "          ***********\n",
      "         *************\n",
      "        ***************\n",
      "       *****************\n",
      "      *******************\n",
      "     *********************\n",
      "    ***********************\n",
      "   *************************\n",
      "  ***************************\n",
      " *****************************\n",
      "               I\n"
     ]
    }
   ],
   "source": [
    "H=int(input('Please decide the height of the tree'))\n",
    "for i in range(H):\n",
    "    print(\" \"*(H-i-1),'*'*(i*2+1))\n",
    "print((' '*(H-1)),'I')"
   ]
  },
  {
   "cell_type": "markdown",
   "id": "b66ffaf0",
   "metadata": {},
   "source": [
    "# Exercise 10"
   ]
  },
  {
   "cell_type": "code",
   "execution_count": 134,
   "id": "bcbbbb69",
   "metadata": {},
   "outputs": [
    {
     "name": "stdout",
     "output_type": "stream",
     "text": [
      "Please enter the first n numbers of the padovan sequence50\n",
      "1\n",
      "1\n",
      "2\n",
      "2\n",
      "3\n",
      "4\n",
      "5\n",
      "7\n",
      "9\n",
      "12\n",
      "16\n",
      "21\n",
      "28\n",
      "37\n",
      "49\n",
      "65\n",
      "86\n",
      "114\n",
      "151\n",
      "200\n",
      "265\n",
      "351\n",
      "465\n",
      "616\n",
      "816\n",
      "1081\n",
      "1432\n",
      "1897\n",
      "2513\n",
      "3329\n",
      "4410\n",
      "5842\n",
      "7739\n",
      "10252\n",
      "13581\n",
      "17991\n",
      "23833\n",
      "31572\n",
      "41824\n",
      "55405\n",
      "73396\n",
      "97229\n",
      "128801\n",
      "170625\n",
      "226030\n",
      "299426\n",
      "396655\n",
      "525456\n",
      "696081\n",
      "922111\n"
     ]
    }
   ],
   "source": [
    "p1=1\n",
    "p2=1\n",
    "p3=1\n",
    "a=int(input('Please enter the first n numbers of the padovan sequence'))\n",
    "for i in range(a):\n",
    "    p4=p1+p2\n",
    "    p1=p2\n",
    "    p2=p3\n",
    "    p3=p4\n",
    "    print(p1)"
   ]
  }
 ],
 "metadata": {
  "kernelspec": {
   "display_name": "Python 3 (ipykernel)",
   "language": "python",
   "name": "python3"
  },
  "language_info": {
   "codemirror_mode": {
    "name": "ipython",
    "version": 3
   },
   "file_extension": ".py",
   "mimetype": "text/x-python",
   "name": "python",
   "nbconvert_exporter": "python",
   "pygments_lexer": "ipython3",
   "version": "3.11.5"
  }
 },
 "nbformat": 4,
 "nbformat_minor": 5
}
