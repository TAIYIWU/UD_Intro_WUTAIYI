{
 "cells": [
  {
   "cell_type": "markdown",
   "id": "38e188a5",
   "metadata": {},
   "source": [
    "# Exercise 00\n",
    "Write a piece of code that allocates a list of 20 integers and initializes each element by its index multiplied by 5. Print the result."
   ]
  },
  {
   "cell_type": "code",
   "execution_count": 6,
   "id": "01aa4f35",
   "metadata": {},
   "outputs": [
    {
     "name": "stdout",
     "output_type": "stream",
     "text": [
      "[5, 6, 7, 8, 9, 10, 11, 12, 13, 14, 15, 16, 17, 18, 19, 20, 21, 22, 23, 24]\n"
     ]
    }
   ],
   "source": [
    "mylist=[]\n",
    "for i in range(20):\n",
    "    mylist. append(i*5)\n",
    "print(mylist)"
   ]
  },
  {
   "cell_type": "markdown",
   "id": "529d91ae",
   "metadata": {},
   "source": [
    "# Exercise 01\n",
    "Define a function that takes an integer as input, prints  all integers that it is divisable by, and returns the largest one."
   ]
  },
  {
   "cell_type": "code",
   "execution_count": 32,
   "id": "30e79132",
   "metadata": {},
   "outputs": [
    {
     "name": "stdout",
     "output_type": "stream",
     "text": [
      "Enter a integer20\n",
      "The largest one is  10\n"
     ]
    }
   ],
   "source": [
    "n=int(input(\"Enter a integer\"))\n",
    "def Maxdiv(n):\n",
    "    div=1\n",
    "    for i in range(1,int(n/2)+1):\n",
    "        if n%i==0:\n",
    "            div=i\n",
    "    return div\n",
    "print('The largest one is ',Maxdiv(n))"
   ]
  },
  {
   "cell_type": "markdown",
   "id": "cfbe30d4",
   "metadata": {},
   "source": [
    "# Exercise 02\n",
    "- create a dictionary with 6 keys and values of your choice\n",
    "- write a function that takes a dictionary and a value as input and returns whether the value occurs as a key in the dictionary\n",
    "- write a function that takes a dictionary as input, and returns the dictionary but the keys are swapped with their values (resolve the issue if a value occurs twice!)"
   ]
  },
  {
   "cell_type": "code",
   "execution_count": 70,
   "id": "2123f1c6",
   "metadata": {},
   "outputs": [
    {
     "name": "stdout",
     "output_type": "stream",
     "text": [
      "{'no.': '4', 'hp': '50', 'mp': '20', 'name': 'Charmander', 'gender': 'male', 'attribute': 'fire'}\n"
     ]
    },
    {
     "data": {
      "text/plain": [
       "True"
      ]
     },
     "execution_count": 70,
     "metadata": {},
     "output_type": "execute_result"
    }
   ],
   "source": [
    "pokmondic={'no.':'4','hp':'50','mp':'20','name':'Charmander','gender':'male','attribute':'fire'}\n",
    "print(pokmondic)\n",
    "\n",
    "def checkfuction(d,k):\n",
    "    for i in d.keys():\n",
    "        if k==i:\n",
    "            return True\n",
    "    else:\n",
    "        return False\n",
    "    \n",
    "checkfuction(pokmondic,'hp')\n"
   ]
  },
  {
   "cell_type": "code",
   "execution_count": 72,
   "id": "c27f44f8",
   "metadata": {},
   "outputs": [
    {
     "data": {
      "text/plain": [
       "{'4': 'no.',\n",
       " '50': 'hp',\n",
       " '20': 'mp',\n",
       " 'Charmander': 'name',\n",
       " 'male': 'gender',\n",
       " 'fire': 'attribute'}"
      ]
     },
     "execution_count": 72,
     "metadata": {},
     "output_type": "execute_result"
    }
   ],
   "source": [
    "def switch(d):\n",
    "    newdic={}\n",
    "    for k in d.keys():\n",
    "        newdic[d[k]]=k\n",
    "    return newdic\n",
    "switch(pokmondic)"
   ]
  },
  {
   "cell_type": "code",
   "execution_count": 113,
   "id": "666dbdce",
   "metadata": {},
   "outputs": [
    {
     "data": {
      "text/plain": [
       "{1: ['a', 'd'], 2: ['b', 'c'], 3: 'e'}"
      ]
     },
     "execution_count": 113,
     "metadata": {},
     "output_type": "execute_result"
    }
   ],
   "source": [
    "def checkfuction(d,k):\n",
    "    for i in d.keys():\n",
    "        if k==i:\n",
    "            return True\n",
    "    else:\n",
    "        return False\n",
    "    \n",
    "dict1 = {'a':1, 'b':2, 'c':2, 'd':1, 'e':3}\n",
    "\n",
    "def switchpro(d):\n",
    "    newDict = {}\n",
    "    for k in d.keys():\n",
    "        if checkfuction(newDict,dict1[k]):\n",
    "            ov = newDict[dict1[k]]\n",
    "            nv = [ov, k]\n",
    "            newDict[dict1[k]]=nv\n",
    "        else:\n",
    "            newDict[dict1[k]]=k\n",
    "    return newDict\n",
    "\n",
    "switchpro(dict1)"
   ]
  },
  {
   "cell_type": "markdown",
   "id": "b4b4e426",
   "metadata": {},
   "source": [
    "# Exercise 03\n",
    "Define a function that creates a dictionary of the first n fibonacci numbers as values paired with their indices as keys. "
   ]
  },
  {
   "cell_type": "code",
   "execution_count": 117,
   "id": "2c133f39",
   "metadata": {},
   "outputs": [],
   "source": [
    "def fibonacciMaker(n):\n",
    "    fibonacci = {}\n",
    "    v1 = 0\n",
    "    v2 = 1\n",
    "    for i in range(n):\n",
    "        fibonacci[i]=v1\n",
    "        t = v1 + v2\n",
    "        v1 = v2\n",
    "        v2 = t\n",
    "    return fibonacci"
   ]
  },
  {
   "cell_type": "code",
   "execution_count": 118,
   "id": "bc0fa046",
   "metadata": {},
   "outputs": [
    {
     "data": {
      "text/plain": [
       "{0: 0,\n",
       " 1: 1,\n",
       " 2: 1,\n",
       " 3: 2,\n",
       " 4: 3,\n",
       " 5: 5,\n",
       " 6: 8,\n",
       " 7: 13,\n",
       " 8: 21,\n",
       " 9: 34,\n",
       " 10: 55,\n",
       " 11: 89,\n",
       " 12: 144,\n",
       " 13: 233,\n",
       " 14: 377}"
      ]
     },
     "execution_count": 118,
     "metadata": {},
     "output_type": "execute_result"
    }
   ],
   "source": [
    "fibonacciMaker(15)"
   ]
  },
  {
   "cell_type": "code",
   "execution_count": 149,
   "id": "49fc8039",
   "metadata": {},
   "outputs": [
    {
     "data": {
      "text/plain": [
       "{1: 1,\n",
       " 2: 1,\n",
       " 3: 2,\n",
       " 4: 3,\n",
       " 5: 5,\n",
       " 6: 8,\n",
       " 7: 13,\n",
       " 8: 21,\n",
       " 9: 34,\n",
       " 10: 55,\n",
       " 11: 89,\n",
       " 12: 144,\n",
       " 13: 233,\n",
       " 14: 377}"
      ]
     },
     "execution_count": 149,
     "metadata": {},
     "output_type": "execute_result"
    }
   ],
   "source": [
    "fibonacci=fibonacciMaker(15)\n",
    "fibonacci.pop(0)\n",
    "fibonacci"
   ]
  }
 ],
 "metadata": {
  "kernelspec": {
   "display_name": "Python 3 (ipykernel)",
   "language": "python",
   "name": "python3"
  },
  "language_info": {
   "codemirror_mode": {
    "name": "ipython",
    "version": 3
   },
   "file_extension": ".py",
   "mimetype": "text/x-python",
   "name": "python",
   "nbconvert_exporter": "python",
   "pygments_lexer": "ipython3",
   "version": "3.11.5"
  }
 },
 "nbformat": 4,
 "nbformat_minor": 5
}
